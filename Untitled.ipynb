{
 "cells": [
  {
   "cell_type": "code",
   "execution_count": 16,
   "id": "nearby-sunglasses",
   "metadata": {},
   "outputs": [
    {
     "name": "stdout",
     "output_type": "stream",
     "text": [
      "{1: {'(2,2,0)': ['(2,2,0)']}, 2: {'(2,2,0)+(2,2,1) II': ['(2,2,0)', '(2,2,1) II'], '(2,2,0)+(3,3,0)': ['(2,2,0)', '(3,3,0)'], '(2,2,0)+(4,4,0)': ['(2,2,0)', '(4,4,0)'], '(2,2,0)+(2,1,0)': ['(2,2,0)', '(2,1,0)']}, 3: {'(2,2,0)+(2,2,1) II+(3,3,0)': ['(2,2,0)', '(2,2,1) II', '(3,3,0)'], '(2,2,0)+(2,2,1) II+(4,4,0)': ['(2,2,0)', '(2,2,1) II', '(4,4,0)'], '(2,2,0)+(2,2,1) II+(2,1,0)': ['(2,2,0)', '(2,2,1) II', '(2,1,0)'], '(2,2,0)+(3,3,0)+(4,4,0)': ['(2,2,0)', '(3,3,0)', '(4,4,0)'], '(2,2,0)+(3,3,0)+(2,1,0)': ['(2,2,0)', '(3,3,0)', '(2,1,0)'], '(2,2,0)+(4,4,0)+(2,1,0)': ['(2,2,0)', '(4,4,0)', '(2,1,0)']}}\n"
     ]
    }
   ],
   "source": [
    "import itertools\n",
    "modes = [\"(2,2,0)\", \"(2,2,1) II\", \"(3,3,0)\", \"(4,4,0)\", \"(2,1,0)\"]\n",
    "d_mode = modes[0]\n",
    "del modes[0]\n",
    "\n",
    "combinations = [[d_mode]]\n",
    "for i in range(1,3):\n",
    "    combs = list(itertools.combinations(modes,i))\n",
    "    for comb in combs:\n",
    "        copy = list(comb)\n",
    "        copy.insert(0,d_mode)\n",
    "        combinations.append(copy)\n",
    "\n",
    "logB = {}\n",
    "for models in combinations:\n",
    "    n = len(models)\n",
    "    key = ''\n",
    "    for mode in models:\n",
    "        key += mode+'+'\n",
    "    key = key[:-1]\n",
    "    try:\n",
    "        logB[n][key] = models\n",
    "    except:\n",
    "        logB[n] = {key: models}\n",
    "print(logB)"
   ]
  },
  {
   "cell_type": "code",
   "execution_count": 45,
   "id": "hungry-declaration",
   "metadata": {},
   "outputs": [
    {
     "name": "stdout",
     "output_type": "stream",
     "text": [
      "1\n",
      "2\n",
      "3\n"
     ]
    }
   ],
   "source": [
    "a = [3,2,1]\n",
    "a = sorted(a)\n",
    "for i in a:\n",
    "    print(i)"
   ]
  },
  {
   "cell_type": "code",
   "execution_count": null,
   "id": "medium-blocking",
   "metadata": {},
   "outputs": [],
   "source": []
  }
 ],
 "metadata": {
  "kernelspec": {
   "display_name": "Python 3",
   "language": "python",
   "name": "python3"
  },
  "language_info": {
   "codemirror_mode": {
    "name": "ipython",
    "version": 3
   },
   "file_extension": ".py",
   "mimetype": "text/x-python",
   "name": "python",
   "nbconvert_exporter": "python",
   "pygments_lexer": "ipython3",
   "version": "3.8.5"
  }
 },
 "nbformat": 4,
 "nbformat_minor": 5
}
