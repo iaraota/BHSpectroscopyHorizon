{
 "cells": [
  {
   "cell_type": "code",
   "execution_count": 2,
   "id": "sacred-episode",
   "metadata": {},
   "outputs": [],
   "source": [
    "import numpy as np\n",
    "import matplotlib.pyplot as plt"
   ]
  },
  {
   "cell_type": "code",
   "execution_count": 17,
   "id": "rotary-advertiser",
   "metadata": {},
   "outputs": [],
   "source": [
    "horizons_coeffs = {\n",
    "    1.5: {\n",
    "        '(2,2,1) II': [-0.66852311,  4.05036508, -6.80452328,  1.26800471],\n",
    "        '(3,3,0)': [-0.72984323,  4.60837898, -8.3414624,   2.31768849],\n",
    "        '(4,4,0)': [-0.58874309,  3.88021218, -7.19144783,  1.32087045],\n",
    "        '(2,1,0)': [-2.21026510e-03, -1.31642774e+00,  7.05973356e+00, -1.10706091e+01],\n",
    "    },\n",
    "    10: {\n",
    "        '(2,2,1) II': [-0.86209342, 5.76135278, -11.65082754, 4.88450789],\n",
    "        '(3,3,0)': [-0.95259347, 6.1709775, -12.13801787, 5.37319762],\n",
    "        '(4,4,0)': [-1.13283604, 7.85887465, -16.92973514, 9.46422891],\n",
    "#         '(2,1,0)': [28.36790612, -219.14865875, 564.00716773, -485.62649979],\n",
    "    }\n",
    "}"
   ]
  },
  {
   "cell_type": "code",
   "execution_count": 22,
   "id": "persistent-illustration",
   "metadata": {},
   "outputs": [
    {
     "data": {
      "image/png": "[encoded data removed]",
      "text/plain": [
       "<Figure size 432x288 with 2 Axes>"
      ]
     },
     "metadata": {
      "needs_background": "light"
     },
     "output_type": "display_data"
    }
   ],
   "source": [
    "fig, ax = plt.subplots(2)\n",
    "i = 0\n",
    "colors = {\n",
    "        '(2,2,1) II': 'tab:red',\n",
    "        '(3,3,0)': 'tab:green',\n",
    "        '(4,4,0)': 'tab:blue',\n",
    "        '(2,1,0)': 'tab:orange',\n",
    "}\n",
    "for q, q_coeffs in horizons_coeffs.items():\n",
    "    for mode, coeffs in q_coeffs.items():\n",
    "        horizon = np.poly1d(coeffs)\n",
    "        masses = np.logspace(1.5, 3.7, 100, endpoint=True)\n",
    "        ax[i].loglog(masses, 10**horizon(np.log10(masses)), color = colors[mode])\n",
    "    ax[i].set_ylim(1e-2, 1e0)\n",
    "    i += 1\n",
    "\n",
    "    \n",
    "        "
   ]
  },
  {
   "cell_type": "code",
   "execution_count": 23,
   "id": "martial-terrain",
   "metadata": {},
   "outputs": [],
   "source": [
    "events = {\n",
    "    'GW150914': {\n",
    "        'final_mass': 63.1,\n",
    "        'redshift': 0.09,\n",
    "    },\n",
    "    'GW190521': {\n",
    "        'final_mass': 156.3,\n",
    "        'redshift': 0.64,\n",
    "    },\n",
    "}"
   ]
  },
  {
   "cell_type": "code",
   "execution_count": 27,
   "id": "loaded-maintenance",
   "metadata": {},
   "outputs": [
    {
     "name": "stdout",
     "output_type": "stream",
     "text": [
      "GW150914, (2,2,1) II horizon:\n",
      "0.017549163940902817 \n",
      "\n",
      "GW150914, (3,3,0) horizon:\n",
      "0.009501501633525538 \n",
      "\n",
      "GW150914, (4,4,0) horizon:\n",
      "0.0032706425696906564 \n",
      "\n",
      "GW150914, (2,1,0) horizon:\n",
      "0.0022848761441306947 \n",
      "\n",
      "GW190521, (2,2,1) II horizon:\n",
      "0.059629180050681574 \n",
      "\n",
      "GW190521, (3,3,0) horizon:\n",
      "0.03101443898549217 \n",
      "\n",
      "GW190521, (4,4,0) horizon:\n",
      "0.010067540514288117 \n",
      "\n",
      "GW190521, (2,1,0) horizon:\n",
      "0.011435315901166443 \n",
      "\n"
     ]
    }
   ],
   "source": [
    "for event, value in events.items():\n",
    "    for mode, coeffs in horizons_coeffs[1.5].items():\n",
    "        horizon = np.poly1d(coeffs)\n",
    "        print(f'{event}, {mode} horizon:')\n",
    "        print(10**horizon(np.log10(value['final_mass'])), '\\n')\n"
   ]
  },
  {
   "cell_type": "code",
   "execution_count": null,
   "id": "recent-therapy",
   "metadata": {},
   "outputs": [],
   "source": []
  }
 ],
 "metadata": {
  "kernelspec": {
   "display_name": "Python 3",
   "language": "python",
   "name": "python3"
  },
  "language_info": {
   "codemirror_mode": {
    "name": "ipython",
    "version": 3
   },
   "file_extension": ".py",
   "mimetype": "text/x-python",
   "name": "python",
   "nbconvert_exporter": "python",
   "pygments_lexer": "ipython3",
   "version": "3.8.5"
  }
 },
 "nbformat": 4,
 "nbformat_minor": 5
}
